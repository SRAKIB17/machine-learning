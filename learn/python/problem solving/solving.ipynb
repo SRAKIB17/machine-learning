{
 "cells": [
  {
   "cell_type": "code",
   "execution_count": 38,
   "id": "f1b27cf9",
   "metadata": {},
   "outputs": [
    {
     "name": "stdout",
     "output_type": "stream",
     "text": [
      "200\n"
     ]
    }
   ],
   "source": [
    "# 1. দুই সংখ্যার যোগফল বের করার প্রোগ্রাম লিখুন।\n",
    "# 2. একটি তালিকার সর্বোচ্চ সংখ্যাটি বের করুন।\n",
    "\n",
    "ls = [10, 20, 200, 20, 20, 100]\n",
    "large = ls[0]\n",
    "for x in ls:\n",
    "    if (large < x):\n",
    "        large = x\n",
    "print(large)"
   ]
  },
  {
   "cell_type": "code",
   "execution_count": 17,
   "id": "d61b7d17",
   "metadata": {},
   "outputs": [
    {
     "name": "stdout",
     "output_type": "stream",
     "text": [
      "LUBIKAR\n"
     ]
    }
   ],
   "source": [
    "# 3. একটি স্ট্রিং উল্টো করে প্রিন্ট করুন।\n",
    "x = 'RAKIBUL'\n",
    "# x = input(\"Enter a string: \");\n",
    "print(x[::-1])"
   ]
  },
  {
   "cell_type": "code",
   "execution_count": 20,
   "id": "5003278f",
   "metadata": {},
   "outputs": [
    {
     "name": "stdout",
     "output_type": "stream",
     "text": [
      "370\n"
     ]
    }
   ],
   "source": [
    "# 4. একটি তালিকার সব সংখ্যার যোগফল নির্ণয় করুন।\n",
    "s = 0\n",
    "for x in ls:\n",
    "    s += x\n",
    "print(s)"
   ]
  },
  {
   "cell_type": "code",
   "execution_count": 21,
   "id": "30a4f25e",
   "metadata": {},
   "outputs": [
    {
     "name": "stdout",
     "output_type": "stream",
     "text": [
      "720\n"
     ]
    }
   ],
   "source": [
    "# 5. একটি সংখ্যার ফ্যাক্টরিয়াল বের করুন।\n",
    "X = 6\n",
    "\n",
    "\n",
    "def factorial(n):\n",
    "    if (n == 0):\n",
    "        return 1\n",
    "    else:\n",
    "        return n*factorial(n-1)\n",
    "\n",
    "\n",
    "print(factorial(X))"
   ]
  },
  {
   "cell_type": "code",
   "execution_count": 22,
   "id": "8b4a8d2e",
   "metadata": {},
   "outputs": [
    {
     "name": "stdout",
     "output_type": "stream",
     "text": [
      "0 1 1 2 3 5 8 13 21 34 "
     ]
    }
   ],
   "source": [
    "# Fibonacci সিরিজ তৈরি করুন।\n",
    "def fibonacci(n):\n",
    "    if (n <= 1):\n",
    "        return n\n",
    "    else:\n",
    "        return fibonacci(n-1)+fibonacci(n-2)\n",
    "\n",
    "\n",
    "for i in range(10):\n",
    "    print(fibonacci(i), end=\" \")"
   ]
  },
  {
   "cell_type": "code",
   "execution_count": 25,
   "id": "4b850daf",
   "metadata": {},
   "outputs": [
    {
     "name": "stdout",
     "output_type": "stream",
     "text": [
      "2 3 5 7 11 13 17 19 23 29 31 37 41 43 47 53 59 61 67 71 73 79 83 89 97 "
     ]
    }
   ],
   "source": [
    "# 8. ১ থেকে ১০০ পর্যন্ত সব প্রাইম সংখ্যা প্রিন্ট করুন।\n",
    "def is_prime(n):\n",
    "    if (n <= 1):\n",
    "        return False\n",
    "    for i in range(2, n):\n",
    "        if (n % i == 0):\n",
    "            return False\n",
    "    return True\n",
    "\n",
    "\n",
    "for x in range(100):\n",
    "    if (is_prime(x)):\n",
    "        print(x, end=\" \")"
   ]
  },
  {
   "cell_type": "code",
   "execution_count": 43,
   "id": "bf1cbeaf",
   "metadata": {},
   "outputs": [
    {
     "name": "stdout",
     "output_type": "stream",
     "text": [
      "[10, 20, 200, 100]\n"
     ]
    }
   ],
   "source": [
    "# 9. একটি তালিকা থেকে ডুপ্লিকেট সরিয়ে ইউনিক তালিকা তৈরি করুন।\n",
    "# print(list(set(ls)))\n",
    "from typing import List\n",
    "u: List = []\n",
    "\n",
    "for x in ls:\n",
    "    if (x not in u):\n",
    "        u.append(x)\n",
    "print(u)"
   ]
  },
  {
   "cell_type": "code",
   "execution_count": 3,
   "id": "69cb477d",
   "metadata": {},
   "outputs": [
    {
     "name": "stdout",
     "output_type": "stream",
     "text": [
      "1 4 7 2 5 8 3 6 9 "
     ]
    }
   ],
   "source": [
    "# একটি ম্যাট্রিক্স ট্রান্সপোজ করুন।\n",
    "x = [[1, 2, 3], [4, 5, 6], [7, 8, 9]]\n",
    "for i in range(len(x)):\n",
    "    for j in range(len(x[0])):\n",
    "        print(x[j][i], end=\" \")"
   ]
  },
  {
   "cell_type": "code",
   "execution_count": 6,
   "id": "947b7fc1",
   "metadata": {},
   "outputs": [
    {
     "name": "stdout",
     "output_type": "stream",
     "text": [
      "[4, 5]\n",
      "4 5 "
     ]
    }
   ],
   "source": [
    "# দুটি তালিকার মিল থাকা এলিমেন্ট বের করুন।\n",
    "l1 = [1, 2, 3, 4, 5]\n",
    "l2 = [4, 5, 6, 7, 8]\n",
    "final = [x for x in l1 if x in l2]\n",
    "print(final)\n",
    "# print(list(set(l1).intersection(set(l2)))\n",
    "for x in l1:\n",
    "    if (x in l2):\n",
    "        print(x, end=\" \")"
   ]
  },
  {
   "cell_type": "code",
   "execution_count": 14,
   "id": "a5a667c3",
   "metadata": {},
   "outputs": [
    {
     "name": "stdout",
     "output_type": "stream",
     "text": [
      "0b101000\n",
      "101000"
     ]
    }
   ],
   "source": [
    "# 14. একটি সংখ্যা বাইনারি ফর্মে কনভার্ট করুন।\n",
    "\n",
    "x = 40\n",
    "print(bin(x))\n",
    "\n",
    "\n",
    "def binary(n):\n",
    "    if (n > 1):\n",
    "        binary(n//2)\n",
    "    print(n % 2, end=\"\")\n",
    "\n",
    "\n",
    "binary(x)"
   ]
  },
  {
   "cell_type": "code",
   "execution_count": 24,
   "id": "8cf8f8e1",
   "metadata": {},
   "outputs": [
    {
     "name": "stdout",
     "output_type": "stream",
     "text": [
      "রোমান নাম্বার: LV\n"
     ]
    }
   ],
   "source": [
    "# 16. একটি সংখ্যাকে রোমান নাম্বারে রূপান্তর করুন।\n",
    "def int_to_roman(num):\n",
    "    roman_numerals = {\n",
    "        1000: \"M\", 900: \"CM\", 500: \"D\", 400: \"CD\",\n",
    "        100: \"C\", 90: \"XC\", 50: \"L\", 40: \"XL\",\n",
    "        10: \"X\", 9: \"IX\", 5: \"V\", 4: \"IV\",\n",
    "        1: \"I\"\n",
    "    }\n",
    "    roman_string = \"\"\n",
    "    for value, symbol in roman_numerals.items():\n",
    "        while num >= value:\n",
    "            roman_string += symbol\n",
    "            num -= value\n",
    "    return roman_string\n",
    "\n",
    "\n",
    "number = int(input(\"একটি সংখ্যা দিন: \"))\n",
    "print(f\"রোমান নাম্বার: {int_to_roman(number)}\")"
   ]
  },
  {
   "cell_type": "code",
   "execution_count": 26,
   "id": "b246ca1f",
   "metadata": {},
   "outputs": [
    {
     "name": "stdout",
     "output_type": "stream",
     "text": [
      "7\n"
     ]
    }
   ],
   "source": [
    "# 17. একটি প্রোগ্রাম লিখুন যা একটি স্ট্রিং-এর দৈর্ঘ্য বের করবে।\n",
    "x = \"Rakibul\"\n",
    "l = 0\n",
    "for i in x:\n",
    "    l += 1\n",
    "print(l)"
   ]
  },
  {
   "cell_type": "code",
   "execution_count": 27,
   "id": "c1a42ed9",
   "metadata": {},
   "outputs": [
    {
     "name": "stdout",
     "output_type": "stream",
     "text": [
      "RakibulHasan"
     ]
    }
   ],
   "source": [
    "# 19. একটি স্ট্রিং থেকে সকল স্পেস সরিয়ে দিন।\n",
    "x = \"Rakibul Hasan\"\n",
    "for i in x:\n",
    "    if (i != \" \"):\n",
    "        print(i, end=\"\")"
   ]
  },
  {
   "cell_type": "code",
   "execution_count": 4,
   "id": "4ee79871",
   "metadata": {},
   "outputs": [
    {
     "name": "stdout",
     "output_type": "stream",
     "text": [
      "RAKIBUL\n"
     ]
    }
   ],
   "source": [
    "# একটি স্ট্রিং থেকে পাংচুয়েশন চিহ্ন সরান।\n",
    "x = \"RAKIBUL:\"\n",
    "bengali_punctuation = [\n",
    "    \".\",  # পূর্ণ বিরাম (Danda - Used as a full stop in Bengali)\n",
    "    \"?\",  # প্রশ্নবোধক চিহ্ন (Question Mark)\n",
    "    \"!\",  # বিস্ময়সূচক চিহ্ন (Exclamation Mark)\n",
    "    \",\",  # কমা (Comma)\n",
    "    \":\",  # কোলন (Colon)\n",
    "    \";\",  # সেমিকোলন (Semicolon)\n",
    "    \"—\",  # ড্যাশ (Dash)\n",
    "    \"-\",  # হাইফেন (Hyphen)\n",
    "    \"“”\",  # দ্বৈত উদ্ধৃতি চিহ্ন (Double Quotation Marks)\n",
    "    \"‘’\",  # একক উদ্ধৃতি চিহ্ন (Single Quotation Marks)\n",
    "    \"…\"  # বিসর্গ বা এলিপসিস (Ellipsis)\n",
    "]\n",
    "xx = ''\n",
    "for a in x:\n",
    "    if (a in bengali_punctuation):\n",
    "        continue\n",
    "    xx += a\n",
    "\n",
    "print(xx)"
   ]
  },
  {
   "cell_type": "code",
   "execution_count": 8,
   "id": "a9fe0847",
   "metadata": {},
   "outputs": [
    {
     "name": "stdout",
     "output_type": "stream",
     "text": [
      "['1', '2', '3', '1', '1', '2']\n"
     ]
    }
   ],
   "source": [
    "# 26. একটি সংখ্যা ফ্ল্যাট করুন (যেমন: 12345 → [1, 2, 3, 4, 5])।\n",
    "x = 123112\n",
    "print([y for y in str(x)])"
   ]
  },
  {
   "cell_type": "code",
   "execution_count": null,
   "id": "7a36fd1b",
   "metadata": {},
   "outputs": [],
   "source": [
    "# 28. একটি প্রোগ্রাম লিখুন যা একটি তালিকা Ascending অর্ডারে সাজাবে।"
   ]
  },
  {
   "cell_type": "code",
   "execution_count": 14,
   "id": "705b4f5c",
   "metadata": {},
   "outputs": [
    {
     "name": "stdout",
     "output_type": "stream",
     "text": [
      "<class 'str'>\n"
     ]
    }
   ],
   "source": [
    "# 30. একটি ফাইল থেকে ডেটা পড়ুন এবং সেটি আরেকটি ফাইলে লিখুন।\n",
    "\n",
    "with open(\"./1-20.py\") as f:\n",
    "    with open('./1-21.py', \"w\") as x:\n",
    "        print(type(f.read()))\n",
    "        x.write('fsf')"
   ]
  },
  {
   "cell_type": "code",
   "execution_count": null,
   "id": "4aadd45d",
   "metadata": {},
   "outputs": [],
   "source": [
    "# 31. ১ থেকে ১০০ পর্যন্ত সংখ্যা প্রিন্ট করুন যা ৫ দ্বারা বিভাজ্য।\n",
    "\n",
    "for x in range(101):\n",
    "    if (x % 5 == 0):\n",
    "        print(x)\n",
    "    continue"
   ]
  },
  {
   "cell_type": "code",
   "execution_count": 23,
   "id": "4c739a96",
   "metadata": {},
   "outputs": [
    {
     "name": "stdout",
     "output_type": "stream",
     "text": [
      "-inf\n",
      "দ্বিতীয় সর্বোচ্চ সংখ্যা: 40\n"
     ]
    }
   ],
   "source": [
    "# 39. একটি প্রোগ্রাম লিখুন যা তালিকার দ্বিতীয় সর্বোচ্চ সংখ্যাটি বের করবে।\n",
    "\n",
    "def second_largest(lst):\n",
    "    first = second = float('-inf')\n",
    "    for num in lst:\n",
    "        if num > first:\n",
    "            second = first\n",
    "            first = num\n",
    "        elif first > num > second:\n",
    "            second = num\n",
    "\n",
    "    return second if second != float('-inf') else \"তালিকায় দ্বিতীয় সর্বোচ্চ সংখ্যা নেই\"\n",
    "\n",
    "\n",
    "numbers = [10, 20, 5, 40, 50, 40, 50, 30]\n",
    "print(\"দ্বিতীয় সর্বোচ্চ সংখ্যা:\", second_largest(numbers))"
   ]
  }
 ],
 "metadata": {
  "kernelspec": {
   "display_name": "Python 3",
   "language": "python",
   "name": "python3"
  },
  "language_info": {
   "codemirror_mode": {
    "name": "ipython",
    "version": 3
   },
   "file_extension": ".py",
   "mimetype": "text/x-python",
   "name": "python",
   "nbconvert_exporter": "python",
   "pygments_lexer": "ipython3",
   "version": "3.12.8"
  }
 },
 "nbformat": 4,
 "nbformat_minor": 5
}
